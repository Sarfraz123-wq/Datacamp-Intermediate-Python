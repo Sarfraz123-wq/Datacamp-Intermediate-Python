{
 "cells": [
  {
   "cell_type": "code",
   "execution_count": 2,
   "id": "952dcdac",
   "metadata": {},
   "outputs": [
    {
     "name": "stdout",
     "output_type": "stream",
     "text": [
      "        country    capital  population\n",
      "0        Brasil   Brasilia       200.4\n",
      "1        Russia     Moscow       143.5\n",
      "2         India  New Dehli      1252.0\n",
      "3         China    Beijing      1357.0\n",
      "4  South Africa  Cape Town        53.0\n"
     ]
    }
   ],
   "source": [
    "brics = {\n",
    "    \"country\": [\"Brasil\",\"Russia\",\"India\",\"China\",\"South Africa\"],\n",
    "    \"capital\": [\"Brasilia\",\"Moscow\",\"New Dehli\",\"Beijing\",\"Cape Town\"],\n",
    "    \"population\": [200.40,143.50,1252.00,1357,53.00]\n",
    "}\n",
    "\n",
    "import pandas as pd\n",
    "\n",
    "brics_df = pd.DataFrame(brics)\n",
    "print(brics_df)\n",
    "\n"
   ]
  },
  {
   "cell_type": "code",
   "execution_count": 9,
   "id": "ac2ab19a",
   "metadata": {},
   "outputs": [
    {
     "name": "stdout",
     "output_type": "stream",
     "text": [
      "country\n",
      "capital\n",
      "population\n",
      "-----------------columns------------\n",
      "Index(['country', 'capital', 'population'], dtype='object')\n",
      "-----------------info------------\n",
      "<bound method DataFrame.info of         country    capital  population\n",
      "0        Brasil   Brasilia       200.4\n",
      "1        Russia     Moscow       143.5\n",
      "2         India  New Dehli      1252.0\n",
      "3         China    Beijing      1357.0\n",
      "4  South Africa  Cape Town        53.0>\n",
      "-----------------describe------------\n",
      "<bound method NDFrame.describe of         country    capital  population\n",
      "0        Brasil   Brasilia       200.4\n",
      "1        Russia     Moscow       143.5\n",
      "2         India  New Dehli      1252.0\n",
      "3         China    Beijing      1357.0\n",
      "4  South Africa  Cape Town        53.0>\n"
     ]
    }
   ],
   "source": [
    "# for in loop only prints columns\n",
    "for val in brics_df:\n",
    "    print(val)\n",
    "#  which can also be determined as\n",
    "print('-----------------columns------------')\n",
    "\n",
    "print(brics_df.columns)    \n",
    "print('-----------------info------------')\n",
    "print(brics_df.info)   \n",
    "print('-----------------describe------------')\n",
    "print(brics_df.describe)    "
   ]
  },
  {
   "cell_type": "code",
   "execution_count": 10,
   "id": "fca24597",
   "metadata": {},
   "outputs": [
    {
     "name": "stdout",
     "output_type": "stream",
     "text": [
      "(0, country         Brasil\n",
      "capital       Brasilia\n",
      "population       200.4\n",
      "Name: 0, dtype: object)\n",
      "(1, country       Russia\n",
      "capital       Moscow\n",
      "population     143.5\n",
      "Name: 1, dtype: object)\n",
      "(2, country           India\n",
      "capital       New Dehli\n",
      "population       1252.0\n",
      "Name: 2, dtype: object)\n",
      "(3, country         China\n",
      "capital       Beijing\n",
      "population     1357.0\n",
      "Name: 3, dtype: object)\n",
      "(4, country       South Africa\n",
      "capital          Cape Town\n",
      "population            53.0\n",
      "Name: 4, dtype: object)\n"
     ]
    }
   ],
   "source": [
    "# iterrows with single variable\n",
    "for i in brics_df.iterrows():\n",
    "    print(i)"
   ]
  },
  {
   "cell_type": "code",
   "execution_count": 12,
   "id": "1a424361",
   "metadata": {},
   "outputs": [
    {
     "name": "stdout",
     "output_type": "stream",
     "text": [
      "0\n",
      "country         Brasil\n",
      "capital       Brasilia\n",
      "population       200.4\n",
      "Name: 0, dtype: object\n",
      "1\n",
      "country       Russia\n",
      "capital       Moscow\n",
      "population     143.5\n",
      "Name: 1, dtype: object\n",
      "2\n",
      "country           India\n",
      "capital       New Dehli\n",
      "population       1252.0\n",
      "Name: 2, dtype: object\n",
      "3\n",
      "country         China\n",
      "capital       Beijing\n",
      "population     1357.0\n",
      "Name: 3, dtype: object\n",
      "4\n",
      "country       South Africa\n",
      "capital          Cape Town\n",
      "population            53.0\n",
      "Name: 4, dtype: object\n"
     ]
    }
   ],
   "source": [
    "# iterrows with two variables\n",
    "#  0th variables denotes index number\n",
    "for i,j in brics_df.iterrows():\n",
    "    print(i)\n",
    "    print(j)"
   ]
  },
  {
   "cell_type": "code",
   "execution_count": 13,
   "id": "2838a66b",
   "metadata": {},
   "outputs": [
    {
     "name": "stdout",
     "output_type": "stream",
     "text": [
      "         country    capital  population\n",
      "BR        Brasil   Brasilia       200.4\n",
      "RU        Russia     Moscow       143.5\n",
      "IN         India  New Dehli      1252.0\n",
      "CH         China    Beijing      1357.0\n",
      "SA  South Africa  Cape Town        53.0\n"
     ]
    }
   ],
   "source": [
    "# setting index names to brics_df\n",
    "brics_df.index = ['BR',\"RU\",\"IN\",\"CH\",\"SA\"] \n",
    "print(brics_df)"
   ]
  },
  {
   "cell_type": "code",
   "execution_count": 14,
   "id": "d7baf3a0",
   "metadata": {},
   "outputs": [
    {
     "name": "stdout",
     "output_type": "stream",
     "text": [
      "BR\n",
      "country         Brasil\n",
      "capital       Brasilia\n",
      "population       200.4\n",
      "Name: BR, dtype: object\n",
      "RU\n",
      "country       Russia\n",
      "capital       Moscow\n",
      "population     143.5\n",
      "Name: RU, dtype: object\n",
      "IN\n",
      "country           India\n",
      "capital       New Dehli\n",
      "population       1252.0\n",
      "Name: IN, dtype: object\n",
      "CH\n",
      "country         China\n",
      "capital       Beijing\n",
      "population     1357.0\n",
      "Name: CH, dtype: object\n",
      "SA\n",
      "country       South Africa\n",
      "capital          Cape Town\n",
      "population            53.0\n",
      "Name: SA, dtype: object\n"
     ]
    }
   ],
   "source": [
    "for i,j in brics_df.iterrows():\n",
    "    print(i)\n",
    "    print(j)"
   ]
  },
  {
   "cell_type": "code",
   "execution_count": 17,
   "id": "18648865",
   "metadata": {},
   "outputs": [
    {
     "name": "stdout",
     "output_type": "stream",
     "text": [
      "-------iterrows with multiple columns-----------------\n",
      "BR\n",
      "country      Brasil\n",
      "capital    Brasilia\n",
      "Name: BR, dtype: object\n",
      "RU\n",
      "country    Russia\n",
      "capital    Moscow\n",
      "Name: RU, dtype: object\n",
      "IN\n",
      "country        India\n",
      "capital    New Dehli\n",
      "Name: IN, dtype: object\n",
      "CH\n",
      "country      China\n",
      "capital    Beijing\n",
      "Name: CH, dtype: object\n",
      "SA\n",
      "country    South Africa\n",
      "capital       Cape Town\n",
      "Name: SA, dtype: object\n"
     ]
    }
   ],
   "source": [
    "# iterrows with specific columns\n",
    "print('-------iterrows with multiple columns-----------------')\n",
    "for i,j in brics_df.iterrows():\n",
    "    print(i)\n",
    "    print(j[[\"country\",\"capital\"]])"
   ]
  },
  {
   "cell_type": "code",
   "execution_count": 20,
   "id": "26b69ea0",
   "metadata": {},
   "outputs": [
    {
     "name": "stdout",
     "output_type": "stream",
     "text": [
      "-------iterrows with multiple columns-----------------\n",
      "BR country      :Brasil\n",
      "capital    :Brasilia\n",
      "Name: BR, dtype: object\n",
      "RU country    :Russia\n",
      "capital    :Moscow\n",
      "Name: RU, dtype: object\n",
      "IN country        :India\n",
      "capital    :New Dehli\n",
      "Name: IN, dtype: object\n",
      "CH country      :China\n",
      "capital    :Beijing\n",
      "Name: CH, dtype: object\n",
      "SA country    :South Africa\n",
      "capital       :Cape Town\n",
      "Name: SA, dtype: object\n"
     ]
    }
   ],
   "source": [
    "# iterrows with specific columns\n",
    "print('-------iterrows with multiple columns-----------------')\n",
    "for i,j in brics_df.iterrows():\n",
    "    print(i, \":\"+j[[\"country\",\"capital\"]])"
   ]
  },
  {
   "cell_type": "code",
   "execution_count": 24,
   "id": "10dceb7d",
   "metadata": {},
   "outputs": [
    {
     "name": "stdout",
     "output_type": "stream",
     "text": [
      "         country    capital  population  name_length\n",
      "BR        Brasil   Brasilia       200.4          6.0\n",
      "RU        Russia     Moscow       143.5          6.0\n",
      "IN         India  New Dehli      1252.0          5.0\n",
      "CH         China    Beijing      1357.0          5.0\n",
      "SA  South Africa  Cape Town        53.0         12.0\n"
     ]
    }
   ],
   "source": [
    "# Adding new column to a dataframe brics.\n",
    "\n",
    "for i,j in brics_df.iterrows():\n",
    "    brics_df.loc[i,\"name_length\"] = len(j[\"country\"])\n",
    "print(brics_df)    "
   ]
  },
  {
   "cell_type": "code",
   "execution_count": 25,
   "id": "c9b332cd",
   "metadata": {},
   "outputs": [
    {
     "name": "stdout",
     "output_type": "stream",
     "text": [
      "         country    capital  population  name_length  NAMAE_LENGTH\n",
      "BR        Brasil   Brasilia       200.4          6.0             6\n",
      "RU        Russia     Moscow       143.5          6.0             6\n",
      "IN         India  New Dehli      1252.0          5.0             5\n",
      "CH         China    Beijing      1357.0          5.0             5\n",
      "SA  South Africa  Cape Town        53.0         12.0            12\n"
     ]
    }
   ],
   "source": [
    "# Adding new column with more easy using apply()\n",
    "\n",
    "\n",
    "brics_df[\"NAMAE_LENGTH\"] = brics_df['country'].apply(len)\n",
    "print(brics_df)"
   ]
  },
  {
   "cell_type": "code",
   "execution_count": null,
   "id": "72ece105",
   "metadata": {},
   "outputs": [],
   "source": []
  }
 ],
 "metadata": {
  "kernelspec": {
   "display_name": "Python 3",
   "language": "python",
   "name": "python3"
  },
  "language_info": {
   "codemirror_mode": {
    "name": "ipython",
    "version": 3
   },
   "file_extension": ".py",
   "mimetype": "text/x-python",
   "name": "python",
   "nbconvert_exporter": "python",
   "pygments_lexer": "ipython3",
   "version": "3.8.8"
  }
 },
 "nbformat": 4,
 "nbformat_minor": 5
}
