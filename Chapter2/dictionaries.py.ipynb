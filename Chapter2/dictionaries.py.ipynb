{
 "cells": [
  {
   "cell_type": "code",
   "execution_count": 4,
   "id": "f6fdf4eb",
   "metadata": {},
   "outputs": [
    {
     "name": "stdout",
     "output_type": "stream",
     "text": [
      "2.77\n"
     ]
    }
   ],
   "source": [
    "# List\n",
    "\n",
    "pop = [30.55, 2.77, 39.21]\n",
    "countries = [\"afghanistan\", \"albania\", \"algeria\"]\n",
    "# i want to find the pop of albania\n",
    "\n",
    "albIndex = countries.index(\"albania\")\n",
    "# print(albIndex)\n",
    "popAlbania = pop[albIndex]\n",
    "print(popAlbania)\n",
    "# This method is not convienient and intuitive\n",
    "# This is why we use dictionaries"
   ]
  },
  {
   "cell_type": "code",
   "execution_count": 5,
   "id": "f74c1ca3",
   "metadata": {},
   "outputs": [
    {
     "name": "stdout",
     "output_type": "stream",
     "text": [
      "2.77\n"
     ]
    }
   ],
   "source": [
    "# Dictionary\n",
    "\n",
    "world = {\"afghanistan\" :30.55, \"albania\":2.77, \"algeria\":39.21}\n",
    "print(world['albania'])"
   ]
  },
  {
   "cell_type": "code",
   "execution_count": 6,
   "id": "ffcf87af",
   "metadata": {},
   "outputs": [
    {
     "data": {
      "text/plain": [
       "True"
      ]
     },
     "execution_count": 6,
     "metadata": {},
     "output_type": "execute_result"
    }
   ],
   "source": [
    "# key in dict\n",
    "\n",
    "\"albania\" in world"
   ]
  },
  {
   "cell_type": "code",
   "execution_count": 10,
   "id": "4bc74633",
   "metadata": {},
   "outputs": [
    {
     "name": "stdout",
     "output_type": "stream",
     "text": [
      "        country    capital    area  population\n",
      "0        Brazil   Brasilia   8.516      200.40\n",
      "1        Russia     Moscow  17.100      143.50\n",
      "2         India  New Delhi   3.286     1252.00\n",
      "3         China    Beijing   9.597     1357.00\n",
      "4  South Africa   Pretoria   1.221       52.98\n"
     ]
    }
   ],
   "source": [
    "# Dataframe from Dictionary\n",
    "\n",
    "dict = { \n",
    " \"country\":[\"Brazil\", \"Russia\", \"India\", \"China\", \"South Africa\"], \n",
    " \"capital\":[\"Brasilia\", \"Moscow\", \"New Delhi\", \"Beijing\", \"Pretoria\"], \n",
    " \"area\":[8.516, 17.10, 3.286, 9.597, 1.221],\n",
    " \"population\":[200.4, 143.5, 1252, 1357, 52.98] \n",
    "}\n",
    "# print(dict)\n",
    "\n",
    "import pandas as pd\n",
    "df = pd.DataFrame(dict)\n",
    "print(df)\n",
    "# bydefault indexes are 0,1,2...."
   ]
  },
  {
   "cell_type": "code",
   "execution_count": 13,
   "id": "1100e0c8",
   "metadata": {},
   "outputs": [
    {
     "name": "stdout",
     "output_type": "stream",
     "text": [
      "         country    capital    area  population\n",
      "BR        Brazil   Brasilia   8.516      200.40\n",
      "RU        Russia     Moscow  17.100      143.50\n",
      "IN         India  New Delhi   3.286     1252.00\n",
      "CH         China    Beijing   9.597     1357.00\n",
      "SA  South Africa   Pretoria   1.221       52.98\n"
     ]
    }
   ],
   "source": [
    "# DataFrame from Dictionary (2)\n",
    "# .index() Method\n",
    "\n",
    "dict = { \n",
    " \"country\":[\"Brazil\", \"Russia\", \"India\", \"China\", \"South Africa\"], \n",
    " \"capital\":[\"Brasilia\", \"Moscow\", \"New Delhi\", \"Beijing\", \"Pretoria\"], \n",
    " \"area\":[8.516, 17.10, 3.286, 9.597, 1.221],\n",
    " \"population\":[200.4, 143.5, 1252, 1357, 52.98] \n",
    "}\n",
    "\n",
    "import pandas as pd\n",
    "df = pd.DataFrame(dict)\n",
    "df.index = [\"BR\", \"RU\", \"IN\", \"CH\", \"SA\"]\n",
    "print(df)"
   ]
  },
  {
   "cell_type": "code",
   "execution_count": 29,
   "id": "f26b2535",
   "metadata": {},
   "outputs": [
    {
     "name": "stdout",
     "output_type": "stream",
     "text": [
      "         country    capital    area  population\n",
      "BR        Brazil   Brasilia   8.516      200.40\n",
      "RU        Russia     Moscow  17.100      143.50\n",
      "IN         India  New Dehli   3.286     1252.00\n",
      "CH         China    Beijing   9.597     1357.00\n",
      "SA  South Africa   Pretoria   1.221       52.98\n",
      "<class 'pandas.core.series.Series'>\n",
      "BR          Brazil\n",
      "RU          Russia\n",
      "IN           India\n",
      "CH           China\n",
      "SA    South Africa\n",
      "Name: country, dtype: object\n",
      "         country    capital\n",
      "BR        Brazil   Brasilia\n",
      "RU        Russia     Moscow\n",
      "IN         India  New Dehli\n",
      "CH         China    Beijing\n",
      "SA  South Africa   Pretoria\n",
      "   country    capital    area  population\n",
      "RU  Russia     Moscow  17.100       143.5\n",
      "IN   India  New Dehli   3.286      1252.0\n",
      "CH   China    Beijing   9.597      1357.0\n"
     ]
    }
   ],
   "source": [
    "brics = {\n",
    "    \"country\": [\"Brazil\",\"Russia\",\"India\",\"China\",\"South Africa\"],\n",
    "    \"capital\": [\"Brasilia\",\"Moscow\",\"New Dehli\",\"Beijing\",\"Pretoria\"],\n",
    "    \"area\":[8.516, 17.10, 3.286, 9.597, 1.221],\n",
    "    \"population\":[200.4, 143.5, 1252, 1357, 52.98] \n",
    "}\n",
    "import pandas as pd\n",
    "brics_df = pd.DataFrame(brics)\n",
    "brics_df.index = [\"BR\", \"RU\", \"IN\", \"CH\", \"SA\"]\n",
    "print(brics_df)\n",
    "# column access\n",
    "\n",
    "print(type(brics_df['country'])) #series\n",
    "print(brics_df['country'])\n",
    "\n",
    "# multiple column access with double [[]]\n",
    "print(brics_df[['country','capital']])\n",
    "\n",
    "# Row access\n",
    "print(brics_df[1:4])"
   ]
  },
  {
   "cell_type": "code",
   "execution_count": 62,
   "id": "d7860fac",
   "metadata": {
    "scrolled": false
   },
   "outputs": [
    {
     "name": "stdout",
     "output_type": "stream",
     "text": [
      "country         Brazil\n",
      "capital       Brasilia\n",
      "area             8.516\n",
      "population       200.4\n",
      "Name: BR, dtype: object\n",
      "-----------------\n",
      "country       Russia\n",
      "capital       Moscow\n",
      "area            17.1\n",
      "population     143.5\n",
      "Name: RU, dtype: object\n",
      "-----------------\n",
      "   country   capital    area  population\n",
      "RU  Russia    Moscow  17.100       143.5\n",
      "BR  Brazil  Brasilia   8.516       200.4\n",
      "-----------------\n",
      "   country   capital\n",
      "BR  Brazil  Brasilia\n",
      "CH   China   Beijing\n",
      "         country    capital\n",
      "BR        Brazil   Brasilia\n",
      "RU        Russia     Moscow\n",
      "IN         India  New Dehli\n",
      "CH         China    Beijing\n",
      "SA  South Africa   Pretoria\n",
      "-----using iloc----------------\n",
      "single ----------- column\n",
      "   country   capital   area  population\n",
      "BR  Brazil  Brasilia  8.516       200.4\n",
      "multiple ----------- column\n",
      "   country    capital    area  population\n",
      "BR  Brazil   Brasilia   8.516       200.4\n",
      "RU  Russia     Moscow  17.100       143.5\n",
      "IN   India  New Dehli   3.286      1252.0\n",
      "--------------specific columns with its rows-----------------\n",
      "   country    capital\n",
      "RU  Russia     Moscow\n",
      "IN   India  New Dehli\n",
      "----------all rows with specific columns----------------\n",
      "         country    capital\n",
      "BR        Brazil   Brasilia\n",
      "RU        Russia     Moscow\n",
      "IN         India  New Dehli\n",
      "CH         China    Beijing\n",
      "SA  South Africa   Pretoria\n"
     ]
    }
   ],
   "source": [
    "# loc is label based while iloc is integer position based\n",
    "\n",
    "brics = {\n",
    "    \"country\": [\"Brazil\",\"Russia\",\"India\",\"China\",\"South Africa\"],\n",
    "    \"capital\": [\"Brasilia\",\"Moscow\",\"New Dehli\",\"Beijing\",\"Pretoria\"],\n",
    "    \"area\":[8.516, 17.10, 3.286, 9.597, 1.221],\n",
    "    \"population\":[200.4, 143.5, 1252, 1357, 52.98] \n",
    "}\n",
    "import pandas as pd\n",
    "brics_df = pd.DataFrame(brics)\n",
    "brics_df.index = [\"BR\", \"RU\", \"IN\", \"CH\", \"SA\"]\n",
    "# print(brics_df)\n",
    "\n",
    "print(brics_df.loc[\"BR\"])\n",
    "print(\"-----------------\")\n",
    "print(brics_df.loc[\"RU\"])\n",
    "print(\"-----------------\")\n",
    "# multiple rows with loc\n",
    "\n",
    "print(brics_df.loc[[\"RU\",\"BR\"]])\n",
    "print(\"-----------------\")\n",
    "# Accessing mutiple rows with specific columns\n",
    "print(brics_df.loc[[\"BR\",\"CH\"],[\"country\",\"capital\"]])\n",
    "# all rows with specific columns\n",
    "print(brics_df.loc[:,[\"country\",\"capital\"]])\n",
    "\n",
    "# Row acccess with iloc() using index numbers as integers\n",
    "print(\"-----using iloc----------------\")\n",
    "print('single ----------- column')\n",
    "print(brics_df.iloc[[0]])\n",
    "# multiple rows\n",
    "print('multiple ----------- column')\n",
    "print(brics_df.iloc[[0,1,2]])\n",
    "\n",
    "# specific rows and columns using iloc()\n",
    "print('--------------specific columns with its rows-----------------')\n",
    "print(brics_df.iloc[[1,2],[0,1]])\n",
    "# all rows with specific columns\n",
    "print('----------all rows with specific columns----------------')\n",
    "print(brics_df.iloc[:,[0,1]])"
   ]
  },
  {
   "cell_type": "code",
   "execution_count": null,
   "id": "45493d8d",
   "metadata": {},
   "outputs": [],
   "source": []
  }
 ],
 "metadata": {
  "kernelspec": {
   "display_name": "Python 3",
   "language": "python",
   "name": "python3"
  },
  "language_info": {
   "codemirror_mode": {
    "name": "ipython",
    "version": 3
   },
   "file_extension": ".py",
   "mimetype": "text/x-python",
   "name": "python",
   "nbconvert_exporter": "python",
   "pygments_lexer": "ipython3",
   "version": "3.8.8"
  }
 },
 "nbformat": 4,
 "nbformat_minor": 5
}
